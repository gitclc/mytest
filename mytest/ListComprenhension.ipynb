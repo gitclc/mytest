{
 "cells": [
  {
   "cell_type": "markdown",
   "id": "45820e98-a3cf-40f0-a03f-b1825bf1b59c",
   "metadata": {},
   "source": [
    "# 列表生成式"
   ]
  },
  {
   "cell_type": "markdown",
   "id": "c09fed4e-4f47-4a84-aa6d-939c4428355f",
   "metadata": {},
   "source": [
    "## 列表生成式的理解方式"
   ]
  },
  {
   "cell_type": "markdown",
   "id": "55d78142-985b-4128-b8d2-c27a0b0fd62b",
   "metadata": {},
   "source": [
    " 列表表达式类似于数学中的集合<br>\n",
    " for 表示值域<br>\n",
    " if 表示约束<br>\n",
    " 最后的结果就是集合中是所有元素"
   ]
  },
  {
   "cell_type": "code",
   "execution_count": 3,
   "id": "ea003b76-7ab1-4a2b-9ea9-3354eaf237ca",
   "metadata": {},
   "outputs": [
    {
     "data": {
      "text/plain": [
       "{0, 2, 4, 6, 8}"
      ]
     },
     "execution_count": 3,
     "metadata": {},
     "output_type": "execute_result"
    }
   ],
   "source": [
    "even = {\n",
    "    x \n",
    "    for x in range(10)\n",
    "    if x%2 == 0\n",
    "}\n",
    "even"
   ]
  },
  {
   "cell_type": "markdown",
   "id": "ae345d22-58bc-4729-92a4-b74779779b24",
   "metadata": {},
   "source": [
    "even等价于 {x|x∈(0,1,2,3,4,5,6,7,8,9),x%2=0} <br>\n",
    "所以列表生成式的本质就是集合"
   ]
  },
  {
   "cell_type": "markdown",
   "id": "75a2d91f-1ff7-4fe1-a80a-fc66bc68b4e3",
   "metadata": {},
   "source": [
    "## 列表生成式的执行顺序"
   ]
  },
  {
   "cell_type": "markdown",
   "id": "09bed989-3cb6-411d-aea5-e34c3ba29df7",
   "metadata": {},
   "source": [
    "列表生成式结构:<br>\n",
    "(结果表达式 for|if 表达式)<br><br>\n",
    "列表生成式的顺序: <br>\n",
    "for优先级=if优先级>结果表达式<br>\n",
    "优先级相同执行顺序为从左到右，从上到下"
   ]
  },
  {
   "cell_type": "code",
   "execution_count": 25,
   "id": "170dc8cf-a145-494b-a8e1-1c061ea1174d",
   "metadata": {},
   "outputs": [],
   "source": [
    "def echo_range(iter_type):\n",
    "    for i in iter_type:\n",
    "        print('execute range', i)\n",
    "        yield i\n",
    "\n",
    "def echo_if(data):\n",
    "    print('execute if', data)\n",
    "    return data\n",
    "\n",
    "def echo_data(data):\n",
    "    print('execute data', data)\n",
    "    return data"
   ]
  },
  {
   "cell_type": "markdown",
   "id": "7910758d-6480-499d-b34b-828799d510d6",
   "metadata": {},
   "source": [
    "### part1"
   ]
  },
  {
   "cell_type": "code",
   "execution_count": 26,
   "id": "aab045c5-f1a1-4ff3-8390-005f68450ca0",
   "metadata": {},
   "outputs": [
    {
     "name": "stdout",
     "output_type": "stream",
     "text": [
      "execute range 0\n",
      "execute if 0\n",
      "execute range 1\n",
      "execute if 1\n",
      "execute range 2\n",
      "execute if 2\n",
      "execute range 3\n",
      "execute if 3\n",
      "execute data 3\n",
      "execute range 4\n",
      "execute if 4\n",
      "execute data 4\n"
     ]
    },
    {
     "data": {
      "text/plain": [
       "[3, 4]"
      ]
     },
     "execution_count": 26,
     "metadata": {},
     "output_type": "execute_result"
    }
   ],
   "source": [
    "first_range = echo_range(range(5))\n",
    "data = [\n",
    "    echo_data(i)\n",
    "    for i in first_range\n",
    "    if echo_if(i) > 2\n",
    "]\n",
    "data "
   ]
  },
  {
   "cell_type": "markdown",
   "id": "28076792-3e04-4b3e-982a-c264f29fdbaa",
   "metadata": {},
   "source": [
    "测试后可以看到先执行for循环，再执行if判断，当if判断通过后，才会进行结果表达式的计算<br>\n",
    "接下来进行一些再复杂一些的测试"
   ]
  },
  {
   "cell_type": "markdown",
   "id": "ed045f13-5ed0-4464-a46b-9d00a214d020",
   "metadata": {},
   "source": [
    "### part2"
   ]
  },
  {
   "cell_type": "code",
   "execution_count": 29,
   "id": "34c18233-24d3-4d21-847e-4e1c6f71fc04",
   "metadata": {},
   "outputs": [
    {
     "name": "stdout",
     "output_type": "stream",
     "text": [
      "execute range 0\n",
      "execute if 0\n",
      "execute range a\n",
      "execute if a\n",
      "execute data 0\n",
      "execute range b\n",
      "execute if b\n",
      "execute range c\n",
      "execute if c\n",
      "execute range 1\n",
      "execute if 1\n",
      "execute range 2\n",
      "execute if 2\n",
      "execute range a\n",
      "execute if a\n",
      "execute data 2\n",
      "execute range b\n",
      "execute if b\n",
      "execute range c\n",
      "execute if c\n"
     ]
    },
    {
     "data": {
      "text/plain": [
       "[0, 2]"
      ]
     },
     "execution_count": 29,
     "metadata": {},
     "output_type": "execute_result"
    }
   ],
   "source": [
    "first_range = echo_range(range(3))\n",
    "second_range = lambda:echo_range(['a','b','c'])  # 每次创建一个新的迭代器,否则迭代器会被耗尽\n",
    "data  = [\n",
    "    echo_data(i)\n",
    "    for i in first_range\n",
    "    if echo_if(i)%2 == 0\n",
    "    for j in second_range()\n",
    "    if echo_if(j) == 'a'\n",
    "]\n",
    "data"
   ]
  },
  {
   "cell_type": "markdown",
   "id": "fa0e4730-1aa8-4e78-a27f-f86a8573e425",
   "metadata": {},
   "source": [
    "上面我尝试写了更多的for和if，它们依然遵守从左到右，从上到下的执行顺序<br>\n",
    "而在if后面的表达式，在if判断为真时才会向下执行<br>"
   ]
  },
  {
   "cell_type": "markdown",
   "id": "207da36d-ee21-4319-8893-275a4cf34c6d",
   "metadata": {},
   "source": [
    "这里有一个比较有意思的地方，那就是我的second_range是一个匿名函数，它的功能就是返回一个新的生成器<br>\n",
    "如果不这样做，那么在第一次if通过的时候，second_range就会被耗尽，这会导致当i为2时，虽然if判断通过了，但是因为second_range被耗尽了，无法再向下循环，所以i为2的值不会出现在最后结果里<br>\n",
    "以下代码展示了这个问题"
   ]
  },
  {
   "cell_type": "code",
   "execution_count": 31,
   "id": "aa1aae57-ea95-4496-83c6-280feb360af5",
   "metadata": {},
   "outputs": [
    {
     "name": "stdout",
     "output_type": "stream",
     "text": [
      "execute range 0\n",
      "execute if 0\n",
      "execute range a\n",
      "execute if a\n",
      "execute data 0\n",
      "execute range b\n",
      "execute if b\n",
      "execute range c\n",
      "execute if c\n",
      "execute range 1\n",
      "execute if 1\n",
      "execute range 2\n",
      "execute if 2\n"
     ]
    },
    {
     "data": {
      "text/plain": [
       "[0]"
      ]
     },
     "execution_count": 31,
     "metadata": {},
     "output_type": "execute_result"
    }
   ],
   "source": [
    "first_range = echo_range(range(3))\n",
    "second_range = echo_range(['a','b','c'])\n",
    "data  = [\n",
    "    echo_data(i)\n",
    "    for i in first_range\n",
    "    if echo_if(i)%2 == 0\n",
    "    for j in second_range\n",
    "    if echo_if(j) == 'a'\n",
    "]\n",
    "data"
   ]
  },
  {
   "cell_type": "markdown",
   "id": "98458cc3-8443-4741-bf03-ed1c08ab1c2c",
   "metadata": {},
   "source": [
    "### part3"
   ]
  },
  {
   "cell_type": "code",
   "execution_count": 40,
   "id": "d3daf395-7122-461c-8ea5-968f29dcb5ef",
   "metadata": {},
   "outputs": [
    {
     "name": "stdout",
     "output_type": "stream",
     "text": [
      "execute range ('a', ['b', 'c'])\n",
      "execute range b\n",
      "execute data b\n",
      "execute data a\n",
      "execute range c\n",
      "execute data c\n",
      "execute data a\n",
      "execute range ('d', ['e', 'f'])\n",
      "execute range e\n",
      "execute data e\n",
      "execute data d\n",
      "execute range f\n",
      "execute data f\n",
      "execute data d\n"
     ]
    },
    {
     "data": {
      "text/plain": [
       "[{'b': 'a', 'c': 'a'}, {'e': 'd', 'f': 'd'}]"
      ]
     },
     "execution_count": 40,
     "metadata": {},
     "output_type": "execute_result"
    }
   ],
   "source": [
    "raw = {\n",
    "    'a':['b','c'],\n",
    "    'd':['e','f']\n",
    "}\n",
    "data = [\n",
    "    {echo_data(i):echo_data(k) for i in echo_range(v)}\n",
    "    for k,v in echo_range(raw.items())\n",
    "]\n",
    "data"
   ]
  },
  {
   "cell_type": "markdown",
   "id": "c3325ca2-160a-4f45-842f-322ee774df52",
   "metadata": {},
   "source": [
    "在新的代码里，我在结果表达式中又嵌套了一层for循环<br>\n",
    "看似复杂，实际上它仍然按照上文的规则来运行<br>\n",
    "先是对raw的键值对进行遍历<br>\n",
    "然后是执行结果表达式<br>\n",
    "于是进行第二次循环，对原来为value的列表进行遍历，作为新的字典的key来使用<br>\n",
    "而原来key则作为value<br>\n",
    "第二次循环结束后，生成新的字典，结果表达式结束\n",
    "回到第一次循环，取下一个值重复上述动作"
   ]
  }
 ],
 "metadata": {
  "kernelspec": {
   "display_name": "Python 3 (ipykernel)",
   "language": "python",
   "name": "python3"
  },
  "language_info": {
   "codemirror_mode": {
    "name": "ipython",
    "version": 3
   },
   "file_extension": ".py",
   "mimetype": "text/x-python",
   "name": "python",
   "nbconvert_exporter": "python",
   "pygments_lexer": "ipython3",
   "version": "3.9.5"
  }
 },
 "nbformat": 4,
 "nbformat_minor": 5
}
