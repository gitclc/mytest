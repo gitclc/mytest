{
 "cells": [
  {
   "cell_type": "markdown",
   "id": "3edf5bf9-1b23-4f89-934c-9dfdbca90969",
   "metadata": {},
   "source": [
    "# 布尔运算测试"
   ]
  },
  {
   "cell_type": "code",
   "execution_count": 9,
   "id": "776d8eac-8fef-4226-ba5b-a29307bcd834",
   "metadata": {},
   "outputs": [
    {
     "name": "stdout",
     "output_type": "stream",
     "text": [
      "1\n",
      "1\n",
      "\n",
      "None\n",
      "1\n"
     ]
    }
   ],
   "source": [
    "# 测试or运算\n",
    "print(1 or 0)  # 1\n",
    "print(0 or 1)  # 1\n",
    "print(0 or '')  # ''\n",
    "print('' or 0 or None)  # None\n",
    "print(1 or 2 or 3)  # 1"
   ]
  },
  {
   "cell_type": "markdown",
   "id": "f23b5ee6-0573-4c46-9324-9a0a5adb7bd8",
   "metadata": {},
   "source": [
    "非布尔值的变量进行布尔运算时，会把数据转化为布尔值之后再进行运算"
   ]
  },
  {
   "cell_type": "markdown",
   "id": "a88082f7-903d-46bf-b073-d5729f8f6dcf",
   "metadata": {},
   "source": [
    "or 运算会从第一个变量进行判断，直到遇到布尔值为True的变量为止，停止运算并返回该变量，如果所有的变量的布尔值都为False，那么会返回最后一个变量"
   ]
  },
  {
   "cell_type": "code",
   "execution_count": 8,
   "id": "307fa1af-d22a-4481-9ec6-c314e2aff396",
   "metadata": {},
   "outputs": [
    {
     "name": "stdout",
     "output_type": "stream",
     "text": [
      "0\n",
      "0\n",
      "0\n",
      "False\n",
      "3\n"
     ]
    }
   ],
   "source": [
    "# 测试and运算\n",
    "print(0 and 1)  # 0\n",
    "print(1 and 0)  # 0 \n",
    "print(1 and 0 and None)  # 0\n",
    "print(False and 0 and 1)  # False\n",
    "print(1 and 2 and 3)  # 3"
   ]
  },
  {
   "cell_type": "markdown",
   "id": "cb0d3cf5-5778-4b66-a9ff-858b7d74d14a",
   "metadata": {},
   "source": [
    "and 运算会从第一个变量进行判断，直到遇到布尔值为False的变量为止，如果所有变量的布尔值都为True，则返回最后一个变量"
   ]
  }
 ],
 "metadata": {
  "kernelspec": {
   "display_name": "Python 3 (ipykernel)",
   "language": "python",
   "name": "python3"
  },
  "language_info": {
   "codemirror_mode": {
    "name": "ipython",
    "version": 3
   },
   "file_extension": ".py",
   "mimetype": "text/x-python",
   "name": "python",
   "nbconvert_exporter": "python",
   "pygments_lexer": "ipython3",
   "version": "3.9.5"
  }
 },
 "nbformat": 4,
 "nbformat_minor": 5
}
