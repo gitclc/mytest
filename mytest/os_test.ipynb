{
 "cells": [
  {
   "cell_type": "code",
   "execution_count": 1,
   "id": "4c6e2f65-fb15-4e96-8f04-08121d41a8b0",
   "metadata": {},
   "outputs": [],
   "source": [
    "import os"
   ]
  },
  {
   "cell_type": "code",
   "execution_count": 3,
   "id": "1e7f8cfb-0c83-457c-a021-9748bf6208bb",
   "metadata": {},
   "outputs": [
    {
     "data": {
      "text/plain": [
       "['.ipynb_checkpoints',\n",
       " 'builtin_test.ipynb',\n",
       " 'datetime_test.ipynb',\n",
       " 'json_test.ipynb',\n",
       " 'os_test.ipynb']"
      ]
     },
     "execution_count": 3,
     "metadata": {},
     "output_type": "execute_result"
    }
   ],
   "source": [
    "os.listdir('.')  # 查看该路径下的文件和文件夹 注：文件和文件夹都会查询到，如果仅限文件或文件夹的话需要增加判断逻辑"
   ]
  },
  {
   "cell_type": "code",
   "execution_count": 4,
   "id": "510954f3-ae86-41b3-866f-9bf17089f761",
   "metadata": {},
   "outputs": [
    {
     "data": {
      "text/plain": [
       "os.stat_result(st_mode=33206, st_ino=11540474045271680, st_dev=3799434534, st_nlink=1, st_uid=0, st_gid=0, st_size=1485, st_atime=1699843686, st_mtime=1699843686, st_ctime=1699843498)"
      ]
     },
     "execution_count": 4,
     "metadata": {},
     "output_type": "execute_result"
    }
   ],
   "source": [
    "os.stat(r'./os_test.ipynb') # 查看文件描述符信息\n",
    "# st_mode 文件模式\n",
    "# st_ino 在 Unix 上该值表示索引节点号 (inode number)；在 Windows 上该值表示 文件索引号\n",
    "# st_dev 该文件所在设备的标识符\n",
    "# st_nlink 硬链接的数量\n",
    "# st_uid 文件所有者的用户 ID\n",
    "# st_gid 文件所有者的用户组 ID\n",
    "# st_size 文件大小（以字节为单位），文件可以是常规文件或符号链接。符号链接的大小是它包含的路径的长度，不包括末尾的空字节\n",
    "# st_atime 最近的访问时间，以秒为单位\n",
    "# st_mtime 最近的修改时间，以秒为单位\n",
    "# st_ctime 以秒数表示的元数据最近更改的时间"
   ]
  }
 ],
 "metadata": {
  "kernelspec": {
   "display_name": "Python 3 (ipykernel)",
   "language": "python",
   "name": "python3"
  },
  "language_info": {
   "codemirror_mode": {
    "name": "ipython",
    "version": 3
   },
   "file_extension": ".py",
   "mimetype": "text/x-python",
   "name": "python",
   "nbconvert_exporter": "python",
   "pygments_lexer": "ipython3",
   "version": "3.9.5"
  }
 },
 "nbformat": 4,
 "nbformat_minor": 5
}
