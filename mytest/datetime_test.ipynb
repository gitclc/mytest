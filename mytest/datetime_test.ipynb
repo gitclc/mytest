{
 "cells": [
  {
   "cell_type": "code",
   "execution_count": 11,
   "id": "1487ffa9-3656-4c7c-b9fd-f678c05ec056",
   "metadata": {},
   "outputs": [],
   "source": [
    "from datetime import datetime, timedelta"
   ]
  },
  {
   "cell_type": "code",
   "execution_count": 2,
   "id": "fda72103-259a-4d98-94d0-072be6abd364",
   "metadata": {},
   "outputs": [
    {
     "name": "stdout",
     "output_type": "stream",
     "text": [
      "new_date: 2022-08-20 00:00:00\n",
      "today: 2023-10-12 09:33:08.119560\n",
      "now: 2023-10-12 09:33:08.120560\n"
     ]
    }
   ],
   "source": [
    "# 创建datetime对象\n",
    "new_date = datetime(year=2022, month=8, day=20)\n",
    "# 获取今天\n",
    "today = datetime.today()\n",
    "# 获取当前时间\n",
    "now = datetime.now()\n",
    "\n",
    "print('new_date:',new_date)\n",
    "print('today:',today)\n",
    "print('now:',now)"
   ]
  },
  {
   "cell_type": "markdown",
   "id": "9b7e2e73-6678-4056-a830-12788453f3f1",
   "metadata": {},
   "source": [
    "**notice:** today方法和now方法逻辑一致,均为获取方法调用时的时间"
   ]
  },
  {
   "cell_type": "code",
   "execution_count": 3,
   "id": "2d46310e-6b3d-41d6-b1a8-b235a9c27dbd",
   "metadata": {},
   "outputs": [
    {
     "name": "stdout",
     "output_type": "stream",
     "text": [
      "418 days, 9:33:08.120560\n"
     ]
    }
   ],
   "source": [
    "# datetime 运算\n",
    "timespan1 = now - new_date\n",
    "print(timespan1)"
   ]
  },
  {
   "cell_type": "code",
   "execution_count": 4,
   "id": "0b119b20-6900-4e41-9b51-773008d76eeb",
   "metadata": {},
   "outputs": [
    {
     "ename": "TypeError",
     "evalue": "unsupported operand type(s) for +: 'datetime.datetime' and 'datetime.datetime'",
     "output_type": "error",
     "traceback": [
      "\u001b[1;31m---------------------------------------------------------------------------\u001b[0m",
      "\u001b[1;31mTypeError\u001b[0m                                 Traceback (most recent call last)",
      "Cell \u001b[1;32mIn[4], line 2\u001b[0m\n\u001b[0;32m      1\u001b[0m \u001b[38;5;66;03m# 时间不能作加法\u001b[39;00m\n\u001b[1;32m----> 2\u001b[0m timespan2 \u001b[38;5;241m=\u001b[39m \u001b[43mnow\u001b[49m\u001b[43m \u001b[49m\u001b[38;5;241;43m+\u001b[39;49m\u001b[43m \u001b[49m\u001b[43mnew_date\u001b[49m\n",
      "\u001b[1;31mTypeError\u001b[0m: unsupported operand type(s) for +: 'datetime.datetime' and 'datetime.datetime'"
     ]
    }
   ],
   "source": [
    "# 时间不能作加法\n",
    "timespan2 = now + new_date"
   ]
  },
  {
   "cell_type": "code",
   "execution_count": 5,
   "id": "adea2a2b-4da2-4311-84cd-8e98f26cadd5",
   "metadata": {},
   "outputs": [
    {
     "name": "stdout",
     "output_type": "stream",
     "text": [
      "True\n",
      "False\n"
     ]
    }
   ],
   "source": [
    "# 对时间进行比较\n",
    "print(now>new_date)\n",
    "print(now==today)"
   ]
  },
  {
   "cell_type": "code",
   "execution_count": 6,
   "id": "51b97018-077f-4cfd-ac3d-94317cdf7637",
   "metadata": {},
   "outputs": [
    {
     "name": "stdout",
     "output_type": "stream",
     "text": [
      "2022-08-20\n"
     ]
    },
    {
     "data": {
      "text/plain": [
       "datetime.datetime(2022, 8, 20, 0, 0)"
      ]
     },
     "execution_count": 6,
     "metadata": {},
     "output_type": "execute_result"
    }
   ],
   "source": [
    "# 时间格式文档参考:\n",
    "# https://docs.python.org/zh-cn/3/library/datetime.html#strftime-and-strptime-format-codes\n",
    "# 时间转字符串\n",
    "date_str = new_date.strftime('%Y-%m-%d')\n",
    "print(date_str)\n",
    "# 字符串转时间\n",
    "datetime.strptime(date_str,'%Y-%m-%d')"
   ]
  },
  {
   "cell_type": "code",
   "execution_count": 10,
   "id": "603c3ebf-a13e-4c6a-84ec-64e70aa1c352",
   "metadata": {},
   "outputs": [
    {
     "name": "stdout",
     "output_type": "stream",
     "text": [
      "2023\n",
      "10\n",
      "12\n",
      "9\n",
      "33\n",
      "8\n"
     ]
    }
   ],
   "source": [
    "# 获取datetime 属性\n",
    "print(now.year)\n",
    "print(now.month)\n",
    "print(now.day)\n",
    "print(now.hour)\n",
    "print(now.minute)\n",
    "print(now.second)"
   ]
  },
  {
   "cell_type": "code",
   "execution_count": 14,
   "id": "86278917-77fe-4c48-a568-b451aaa87c12",
   "metadata": {},
   "outputs": [
    {
     "name": "stdout",
     "output_type": "stream",
     "text": [
      "2024-01-20 09:33:08.120560\n"
     ]
    }
   ],
   "source": [
    "# 计算 100 天后的日期\n",
    "after100 = now + timedelta(days=100)\n",
    "print(after100)"
   ]
  }
 ],
 "metadata": {
  "kernelspec": {
   "display_name": "Python 3 (ipykernel)",
   "language": "python",
   "name": "python3"
  },
  "language_info": {
   "codemirror_mode": {
    "name": "ipython",
    "version": 3
   },
   "file_extension": ".py",
   "mimetype": "text/x-python",
   "name": "python",
   "nbconvert_exporter": "python",
   "pygments_lexer": "ipython3",
   "version": "3.9.5"
  }
 },
 "nbformat": 4,
 "nbformat_minor": 5
}
