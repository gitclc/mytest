{
 "cells": [
  {
   "cell_type": "code",
   "execution_count": 1,
   "id": "8d67ef07-012d-4c38-8ce2-3899289c92b8",
   "metadata": {},
   "outputs": [],
   "source": [
    "import json"
   ]
  },
  {
   "cell_type": "markdown",
   "id": "c753610d-f46c-45e3-b14c-a22c249476f4",
   "metadata": {},
   "source": [
    "# 字典转字符串"
   ]
  },
  {
   "cell_type": "code",
   "execution_count": 4,
   "id": "d04fa802-e534-4ebd-99e1-ba8d41b25a21",
   "metadata": {},
   "outputs": [
    {
     "name": "stdout",
     "output_type": "stream",
     "text": [
      "type a: <class 'dict'>\n",
      "a: {'test': 'this is test text'}\n",
      "type b: <class 'str'>\n",
      "b: {\"test\": \"this is test text\"}\n"
     ]
    }
   ],
   "source": [
    "a = {\n",
    "    \"test\":\"this is test text\"\n",
    "}\n",
    "print('type a:', type(a))\n",
    "print('a:', a)\n",
    "b = json.dumps(a)\n",
    "print('type b:', type(b))\n",
    "print('b:', b)"
   ]
  },
  {
   "cell_type": "markdown",
   "id": "c6cb97e6-76c5-4871-aaae-1f701949055f",
   "metadata": {},
   "source": [
    "**notice:** 使用json将字典转字符串会自动把单引号修改为双引号"
   ]
  },
  {
   "cell_type": "markdown",
   "id": "13e298e0-0355-4202-80c7-83a3fe5d0066",
   "metadata": {},
   "source": [
    "# 字典保存为json"
   ]
  },
  {
   "cell_type": "code",
   "execution_count": 7,
   "id": "894836f3-ca00-4e70-9f79-3c19106f5812",
   "metadata": {},
   "outputs": [],
   "source": [
    "data = {\n",
    "    1:2,\n",
    "    3:4\n",
    "}\n",
    "with open(r'../data/temp/temp1.json','w') as f:\n",
    "    json.dump(data, f)"
   ]
  },
  {
   "cell_type": "markdown",
   "id": "4addfaba-f4ff-4a5a-af2d-3a4e6c786cf2",
   "metadata": {},
   "source": [
    "# 读取json文件"
   ]
  },
  {
   "cell_type": "code",
   "execution_count": 9,
   "id": "c45bd50a-8f1e-4a93-a3f8-c3998db39ade",
   "metadata": {},
   "outputs": [
    {
     "data": {
      "text/plain": [
       "{'1': 2, '3': 4}"
      ]
     },
     "execution_count": 9,
     "metadata": {},
     "output_type": "execute_result"
    }
   ],
   "source": [
    "with open(r'../data/temp/temp1.json','r') as f:\n",
    "    data = json.load(f)\n",
    "data\n",
    "# json将字典转字符串后，数字格式会变成字符串格式"
   ]
  },
  {
   "cell_type": "markdown",
   "id": "461885ba-70b1-4278-88bd-cb90bbc77bee",
   "metadata": {},
   "source": [
    "# 转换测试"
   ]
  },
  {
   "cell_type": "code",
   "execution_count": 14,
   "id": "f97b408a-1153-447f-b237-b8f64e34b45f",
   "metadata": {},
   "outputs": [
    {
     "data": {
      "text/plain": [
       "{1: 3, '1': 5}"
      ]
     },
     "execution_count": 14,
     "metadata": {},
     "output_type": "execute_result"
    }
   ],
   "source": [
    "data = {\n",
    "    1:3,\n",
    "    '1':5\n",
    "}\n",
    "data"
   ]
  },
  {
   "cell_type": "code",
   "execution_count": 15,
   "id": "b40eaca4-39de-45f7-b1bc-9838b4f5aab0",
   "metadata": {},
   "outputs": [
    {
     "data": {
      "text/plain": [
       "'{\"1\": 3, \"1\": 5}'"
      ]
     },
     "execution_count": 15,
     "metadata": {},
     "output_type": "execute_result"
    }
   ],
   "source": [
    "data_str = json.dumps(data)\n",
    "data_str"
   ]
  },
  {
   "cell_type": "code",
   "execution_count": 17,
   "id": "be628fa4-8b55-4eee-9756-ddec174ae750",
   "metadata": {},
   "outputs": [
    {
     "data": {
      "text/plain": [
       "{'1': 5}"
      ]
     },
     "execution_count": 17,
     "metadata": {},
     "output_type": "execute_result"
    }
   ],
   "source": [
    "new_data = json.loads(data_str)\n",
    "new_data  # 数据丢失"
   ]
  }
 ],
 "metadata": {
  "kernelspec": {
   "display_name": "Python 3 (ipykernel)",
   "language": "python",
   "name": "python3"
  },
  "language_info": {
   "codemirror_mode": {
    "name": "ipython",
    "version": 3
   },
   "file_extension": ".py",
   "mimetype": "text/x-python",
   "name": "python",
   "nbconvert_exporter": "python",
   "pygments_lexer": "ipython3",
   "version": "3.9.5"
  }
 },
 "nbformat": 4,
 "nbformat_minor": 5
}
