{
 "cells": [
  {
   "cell_type": "code",
   "execution_count": 1,
   "id": "8d67ef07-012d-4c38-8ce2-3899289c92b8",
   "metadata": {},
   "outputs": [],
   "source": [
    "import json"
   ]
  },
  {
   "cell_type": "code",
   "execution_count": 4,
   "id": "d04fa802-e534-4ebd-99e1-ba8d41b25a21",
   "metadata": {},
   "outputs": [
    {
     "name": "stdout",
     "output_type": "stream",
     "text": [
      "type a: <class 'dict'>\n",
      "a: {'test': 'this is test text'}\n",
      "type b: <class 'str'>\n",
      "b: {\"test\": \"this is test text\"}\n"
     ]
    }
   ],
   "source": [
    "# 字典转字符串\n",
    "a = {\n",
    "    \"test\":\"this is test text\"\n",
    "}\n",
    "print('type a:', type(a))\n",
    "print('a:', a)\n",
    "b = json.dumps(a)\n",
    "print('type b:', type(b))\n",
    "print('b:', b)"
   ]
  },
  {
   "cell_type": "markdown",
   "id": "c6cb97e6-76c5-4871-aaae-1f701949055f",
   "metadata": {},
   "source": [
    "**notice:** 字典转字符串会自动把单引号修改为双引号"
   ]
  }
 ],
 "metadata": {
  "kernelspec": {
   "display_name": "Python 3 (ipykernel)",
   "language": "python",
   "name": "python3"
  },
  "language_info": {
   "codemirror_mode": {
    "name": "ipython",
    "version": 3
   },
   "file_extension": ".py",
   "mimetype": "text/x-python",
   "name": "python",
   "nbconvert_exporter": "python",
   "pygments_lexer": "ipython3",
   "version": "3.9.5"
  }
 },
 "nbformat": 4,
 "nbformat_minor": 5
}
