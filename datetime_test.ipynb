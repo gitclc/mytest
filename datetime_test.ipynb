{
 "cells": [
  {
   "cell_type": "code",
   "execution_count": 1,
   "id": "1487ffa9-3656-4c7c-b9fd-f678c05ec056",
   "metadata": {},
   "outputs": [],
   "source": [
    "from datetime import datetime"
   ]
  },
  {
   "cell_type": "code",
   "execution_count": 2,
   "id": "6fae8059-e216-4990-a9d1-c08aaede3ca3",
   "metadata": {},
   "outputs": [
    {
     "name": "stdout",
     "output_type": "stream",
     "text": [
      "new_date: 2022-08-20 00:00:00\n",
      "today: 2023-10-09 17:51:10.588967\n",
      "now: 2023-10-09 17:51:10.588967\n"
     ]
    }
   ],
   "source": [
    "# 创建datetime对象\n",
    "new_date = datetime(year=2022, month=8, day=20)\n",
    "# 获取今天\n",
    "today = datetime.today()\n",
    "# 获取当前时间\n",
    "now = datetime.now()\n",
    "\n",
    "print('new_date:',new_date)\n",
    "print('today:',today)\n",
    "print('now:',now)"
   ]
  },
  {
   "cell_type": "code",
   "execution_count": 4,
   "id": "2d46310e-6b3d-41d6-b1a8-b235a9c27dbd",
   "metadata": {},
   "outputs": [
    {
     "data": {
      "text/plain": [
       "datetime.timedelta(days=415, seconds=64270, microseconds=588967)"
      ]
     },
     "execution_count": 4,
     "metadata": {},
     "output_type": "execute_result"
    }
   ],
   "source": [
    "# datetime 运算\n",
    "now - new_date"
   ]
  },
  {
   "cell_type": "code",
   "execution_count": 8,
   "id": "51b97018-077f-4cfd-ac3d-94317cdf7637",
   "metadata": {},
   "outputs": [
    {
     "name": "stdout",
     "output_type": "stream",
     "text": [
      "2022-08-20\n"
     ]
    },
    {
     "data": {
      "text/plain": [
       "datetime.datetime(2022, 8, 20, 0, 0)"
      ]
     },
     "execution_count": 8,
     "metadata": {},
     "output_type": "execute_result"
    }
   ],
   "source": [
    "# 时间格式文档参考:\n",
    "# https://docs.python.org/zh-cn/3/library/datetime.html#strftime-and-strptime-format-codes\n",
    "# 时间转字符串\n",
    "date_str = new_date.strftime('%Y-%m-%d')\n",
    "print(date_str)\n",
    "# 字符串转时间\n",
    "datetime.strptime(date_str,'%Y-%m-%d')"
   ]
  }
 ],
 "metadata": {
  "kernelspec": {
   "display_name": "Python 3 (ipykernel)",
   "language": "python",
   "name": "python3"
  },
  "language_info": {
   "codemirror_mode": {
    "name": "ipython",
    "version": 3
   },
   "file_extension": ".py",
   "mimetype": "text/x-python",
   "name": "python",
   "nbconvert_exporter": "python",
   "pygments_lexer": "ipython3",
   "version": "3.9.5"
  }
 },
 "nbformat": 4,
 "nbformat_minor": 5
}
