{
 "cells": [
  {
   "cell_type": "code",
   "execution_count": 1,
   "id": "1487ffa9-3656-4c7c-b9fd-f678c05ec056",
   "metadata": {},
   "outputs": [],
   "source": [
    "from datetime import datetime"
   ]
  },
  {
   "cell_type": "code",
   "execution_count": 2,
   "id": "6fae8059-e216-4990-a9d1-c08aaede3ca3",
   "metadata": {},
   "outputs": [
    {
     "name": "stdout",
     "output_type": "stream",
     "text": [
      "new_date: 2022-08-20 00:00:00\n",
      "today: 2023-10-09 17:51:10.588967\n",
      "now: 2023-10-09 17:51:10.588967\n"
     ]
    }
   ],
   "source": [
    "# 创建datetime对象\n",
    "new_date = datetime(year=2022, month=8, day=20)\n",
    "# 获取今天\n",
    "today = datetime.today()\n",
    "# 获取当前时间\n",
    "now = datetime.now()\n",
    "\n",
    "print('new_date:',new_date)\n",
    "print('today:',today)\n",
    "print('now:',now)"
   ]
  },
  {
   "cell_type": "code",
   "execution_count": null,
   "id": "2d46310e-6b3d-41d6-b1a8-b235a9c27dbd",
   "metadata": {},
   "outputs": [],
   "source": []
  }
 ],
 "metadata": {
  "kernelspec": {
   "display_name": "Python 3 (ipykernel)",
   "language": "python",
   "name": "python3"
  },
  "language_info": {
   "codemirror_mode": {
    "name": "ipython",
    "version": 3
   },
   "file_extension": ".py",
   "mimetype": "text/x-python",
   "name": "python",
   "nbconvert_exporter": "python",
   "pygments_lexer": "ipython3",
   "version": "3.9.5"
  }
 },
 "nbformat": 4,
 "nbformat_minor": 5
}
